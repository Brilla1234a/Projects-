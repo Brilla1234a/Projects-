{
 "cells": [
  {
   "cell_type": "markdown",
   "id": "1e68a300",
   "metadata": {},
   "source": [
    "# Problem"
   ]
  },
  {
   "cell_type": "markdown",
   "id": "62e266f4",
   "metadata": {},
   "source": [
    "One of the leading banks would like to predict bad customer while customer applying for loan. This model also called as PD Models (Probability of Default)"
   ]
  },
  {
   "cell_type": "markdown",
   "id": "3a27f16e",
   "metadata": {},
   "source": [
    "# Data"
   ]
  },
  {
   "cell_type": "code",
   "execution_count": 111,
   "id": "60c3543d",
   "metadata": {},
   "outputs": [],
   "source": [
    "import numpy as np\n",
    "import pandas as pd\n",
    "import matplotlib.pyplot as plt\n",
    "import seaborn as sns\n",
    "from sklearn import metrics\n",
    "from sklearn.model_selection import train_test_split\n",
    "from sklearn.ensemble import RandomForestClassifier\n",
    "from sklearn.model_selection import cross_val_predict\n",
    "from sklearn import svm\n",
    "\n",
    "import warnings\n",
    "warnings.simplefilter('ignore')"
   ]
  },
  {
   "cell_type": "code",
   "execution_count": 3,
   "id": "bf480156",
   "metadata": {},
   "outputs": [
    {
     "data": {
      "text/html": [
       "<div>\n",
       "<style scoped>\n",
       "    .dataframe tbody tr th:only-of-type {\n",
       "        vertical-align: middle;\n",
       "    }\n",
       "\n",
       "    .dataframe tbody tr th {\n",
       "        vertical-align: top;\n",
       "    }\n",
       "\n",
       "    .dataframe thead th {\n",
       "        text-align: right;\n",
       "    }\n",
       "</style>\n",
       "<table border=\"1\" class=\"dataframe\">\n",
       "  <thead>\n",
       "    <tr style=\"text-align: right;\">\n",
       "      <th></th>\n",
       "      <th>age</th>\n",
       "      <th>ed</th>\n",
       "      <th>employ</th>\n",
       "      <th>address</th>\n",
       "      <th>income</th>\n",
       "      <th>debtinc</th>\n",
       "      <th>creddebt</th>\n",
       "      <th>othdebt</th>\n",
       "      <th>default</th>\n",
       "    </tr>\n",
       "  </thead>\n",
       "  <tbody>\n",
       "    <tr>\n",
       "      <th>0</th>\n",
       "      <td>41</td>\n",
       "      <td>3</td>\n",
       "      <td>17</td>\n",
       "      <td>12</td>\n",
       "      <td>176</td>\n",
       "      <td>9.3</td>\n",
       "      <td>11.359392</td>\n",
       "      <td>5.008608</td>\n",
       "      <td>1.0</td>\n",
       "    </tr>\n",
       "    <tr>\n",
       "      <th>1</th>\n",
       "      <td>27</td>\n",
       "      <td>1</td>\n",
       "      <td>10</td>\n",
       "      <td>6</td>\n",
       "      <td>31</td>\n",
       "      <td>17.3</td>\n",
       "      <td>1.362202</td>\n",
       "      <td>4.000798</td>\n",
       "      <td>0.0</td>\n",
       "    </tr>\n",
       "    <tr>\n",
       "      <th>2</th>\n",
       "      <td>40</td>\n",
       "      <td>1</td>\n",
       "      <td>15</td>\n",
       "      <td>14</td>\n",
       "      <td>55</td>\n",
       "      <td>5.5</td>\n",
       "      <td>0.856075</td>\n",
       "      <td>2.168925</td>\n",
       "      <td>0.0</td>\n",
       "    </tr>\n",
       "    <tr>\n",
       "      <th>3</th>\n",
       "      <td>41</td>\n",
       "      <td>1</td>\n",
       "      <td>15</td>\n",
       "      <td>14</td>\n",
       "      <td>120</td>\n",
       "      <td>2.9</td>\n",
       "      <td>2.658720</td>\n",
       "      <td>0.821280</td>\n",
       "      <td>0.0</td>\n",
       "    </tr>\n",
       "    <tr>\n",
       "      <th>4</th>\n",
       "      <td>24</td>\n",
       "      <td>2</td>\n",
       "      <td>2</td>\n",
       "      <td>0</td>\n",
       "      <td>28</td>\n",
       "      <td>17.3</td>\n",
       "      <td>1.787436</td>\n",
       "      <td>3.056564</td>\n",
       "      <td>1.0</td>\n",
       "    </tr>\n",
       "  </tbody>\n",
       "</table>\n",
       "</div>"
      ],
      "text/plain": [
       "   age  ed  employ  address  income  debtinc   creddebt   othdebt  default\n",
       "0   41   3      17       12     176      9.3  11.359392  5.008608      1.0\n",
       "1   27   1      10        6      31     17.3   1.362202  4.000798      0.0\n",
       "2   40   1      15       14      55      5.5   0.856075  2.168925      0.0\n",
       "3   41   1      15       14     120      2.9   2.658720  0.821280      0.0\n",
       "4   24   2       2        0      28     17.3   1.787436  3.056564      1.0"
      ]
     },
     "execution_count": 3,
     "metadata": {},
     "output_type": "execute_result"
    }
   ],
   "source": [
    "bank_loans = pd.read_csv('bankloans.csv')\n",
    "bank_loans.head()"
   ]
  },
  {
   "cell_type": "code",
   "execution_count": 5,
   "id": "204812bb",
   "metadata": {},
   "outputs": [
    {
     "data": {
      "text/plain": [
       "Index(['age', 'ed', 'employ', 'address', 'income', 'debtinc', 'creddebt',\n",
       "       'othdebt', 'default'],\n",
       "      dtype='object')"
      ]
     },
     "execution_count": 5,
     "metadata": {},
     "output_type": "execute_result"
    }
   ],
   "source": [
    "bank_loans.columns"
   ]
  },
  {
   "cell_type": "markdown",
   "id": "d1ad1d0e",
   "metadata": {},
   "source": [
    "**Data Description:**\n",
    "\n",
    "age - Age of Customer\n",
    "ed - Eductation level of customer\n",
    "employ: Tenure with current employer (in years)\n",
    "address: Number of years in same address\n",
    "income: Customer Income\n",
    "debtinc: Debt to income ratio\n",
    "creddebt: Credit to Debt ratio\n",
    "othdebt: Other debts\n",
    "default: Customer defaulted in the past (1= defaulted, 0=Never defaulted) - target variable"
   ]
  },
  {
   "cell_type": "code",
   "execution_count": 6,
   "id": "405a290b",
   "metadata": {
    "scrolled": true
   },
   "outputs": [
    {
     "name": "stdout",
     "output_type": "stream",
     "text": [
      "<class 'pandas.core.frame.DataFrame'>\n",
      "RangeIndex: 850 entries, 0 to 849\n",
      "Data columns (total 9 columns):\n",
      " #   Column    Non-Null Count  Dtype  \n",
      "---  ------    --------------  -----  \n",
      " 0   age       850 non-null    int64  \n",
      " 1   ed        850 non-null    int64  \n",
      " 2   employ    850 non-null    int64  \n",
      " 3   address   850 non-null    int64  \n",
      " 4   income    850 non-null    int64  \n",
      " 5   debtinc   850 non-null    float64\n",
      " 6   creddebt  850 non-null    float64\n",
      " 7   othdebt   850 non-null    float64\n",
      " 8   default   700 non-null    float64\n",
      "dtypes: float64(4), int64(5)\n",
      "memory usage: 59.9 KB\n"
     ]
    }
   ],
   "source": [
    "bank_loans.info()"
   ]
  },
  {
   "cell_type": "code",
   "execution_count": 7,
   "id": "fff3fea0",
   "metadata": {},
   "outputs": [
    {
     "data": {
      "text/plain": [
       "age           0\n",
       "ed            0\n",
       "employ        0\n",
       "address       0\n",
       "income        0\n",
       "debtinc       0\n",
       "creddebt      0\n",
       "othdebt       0\n",
       "default     150\n",
       "dtype: int64"
      ]
     },
     "execution_count": 7,
     "metadata": {},
     "output_type": "execute_result"
    }
   ],
   "source": [
    "bank_loans.isnull().sum()"
   ]
  },
  {
   "cell_type": "markdown",
   "id": "2ebbac36",
   "metadata": {},
   "source": [
    "We can clearly see that our target varible has some missing values which could be interpreted as these slots belongs to new customers thus we wish to build models for only existing customers."
   ]
  },
  {
   "cell_type": "code",
   "execution_count": 8,
   "id": "9a36245d",
   "metadata": {},
   "outputs": [
    {
     "data": {
      "text/html": [
       "<div>\n",
       "<style scoped>\n",
       "    .dataframe tbody tr th:only-of-type {\n",
       "        vertical-align: middle;\n",
       "    }\n",
       "\n",
       "    .dataframe tbody tr th {\n",
       "        vertical-align: top;\n",
       "    }\n",
       "\n",
       "    .dataframe thead th {\n",
       "        text-align: right;\n",
       "    }\n",
       "</style>\n",
       "<table border=\"1\" class=\"dataframe\">\n",
       "  <thead>\n",
       "    <tr style=\"text-align: right;\">\n",
       "      <th></th>\n",
       "      <th>age</th>\n",
       "      <th>ed</th>\n",
       "      <th>employ</th>\n",
       "      <th>address</th>\n",
       "      <th>income</th>\n",
       "      <th>debtinc</th>\n",
       "      <th>creddebt</th>\n",
       "      <th>othdebt</th>\n",
       "      <th>default</th>\n",
       "    </tr>\n",
       "  </thead>\n",
       "  <tbody>\n",
       "    <tr>\n",
       "      <th>age</th>\n",
       "      <td>1.000000</td>\n",
       "      <td>0.012983</td>\n",
       "      <td>0.554241</td>\n",
       "      <td>0.599949</td>\n",
       "      <td>0.476218</td>\n",
       "      <td>0.008240</td>\n",
       "      <td>0.278907</td>\n",
       "      <td>0.337841</td>\n",
       "      <td>-0.137657</td>\n",
       "    </tr>\n",
       "    <tr>\n",
       "      <th>ed</th>\n",
       "      <td>0.012983</td>\n",
       "      <td>1.000000</td>\n",
       "      <td>-0.151117</td>\n",
       "      <td>0.052927</td>\n",
       "      <td>0.218219</td>\n",
       "      <td>0.008053</td>\n",
       "      <td>0.099080</td>\n",
       "      <td>0.140937</td>\n",
       "      <td>0.114676</td>\n",
       "    </tr>\n",
       "    <tr>\n",
       "      <th>employ</th>\n",
       "      <td>0.554241</td>\n",
       "      <td>-0.151117</td>\n",
       "      <td>1.000000</td>\n",
       "      <td>0.344664</td>\n",
       "      <td>0.625093</td>\n",
       "      <td>-0.033625</td>\n",
       "      <td>0.381741</td>\n",
       "      <td>0.414431</td>\n",
       "      <td>-0.282978</td>\n",
       "    </tr>\n",
       "    <tr>\n",
       "      <th>address</th>\n",
       "      <td>0.599949</td>\n",
       "      <td>0.052927</td>\n",
       "      <td>0.344664</td>\n",
       "      <td>1.000000</td>\n",
       "      <td>0.308340</td>\n",
       "      <td>-0.032939</td>\n",
       "      <td>0.161641</td>\n",
       "      <td>0.185481</td>\n",
       "      <td>-0.164451</td>\n",
       "    </tr>\n",
       "    <tr>\n",
       "      <th>income</th>\n",
       "      <td>0.476218</td>\n",
       "      <td>0.218219</td>\n",
       "      <td>0.625093</td>\n",
       "      <td>0.308340</td>\n",
       "      <td>1.000000</td>\n",
       "      <td>-0.035585</td>\n",
       "      <td>0.551515</td>\n",
       "      <td>0.603352</td>\n",
       "      <td>-0.070970</td>\n",
       "    </tr>\n",
       "    <tr>\n",
       "      <th>debtinc</th>\n",
       "      <td>0.008240</td>\n",
       "      <td>0.008053</td>\n",
       "      <td>-0.033625</td>\n",
       "      <td>-0.032939</td>\n",
       "      <td>-0.035585</td>\n",
       "      <td>1.000000</td>\n",
       "      <td>0.514965</td>\n",
       "      <td>0.572548</td>\n",
       "      <td>0.389575</td>\n",
       "    </tr>\n",
       "    <tr>\n",
       "      <th>creddebt</th>\n",
       "      <td>0.278907</td>\n",
       "      <td>0.099080</td>\n",
       "      <td>0.381741</td>\n",
       "      <td>0.161641</td>\n",
       "      <td>0.551515</td>\n",
       "      <td>0.514965</td>\n",
       "      <td>1.000000</td>\n",
       "      <td>0.644952</td>\n",
       "      <td>0.244740</td>\n",
       "    </tr>\n",
       "    <tr>\n",
       "      <th>othdebt</th>\n",
       "      <td>0.337841</td>\n",
       "      <td>0.140937</td>\n",
       "      <td>0.414431</td>\n",
       "      <td>0.185481</td>\n",
       "      <td>0.603352</td>\n",
       "      <td>0.572548</td>\n",
       "      <td>0.644952</td>\n",
       "      <td>1.000000</td>\n",
       "      <td>0.145713</td>\n",
       "    </tr>\n",
       "    <tr>\n",
       "      <th>default</th>\n",
       "      <td>-0.137657</td>\n",
       "      <td>0.114676</td>\n",
       "      <td>-0.282978</td>\n",
       "      <td>-0.164451</td>\n",
       "      <td>-0.070970</td>\n",
       "      <td>0.389575</td>\n",
       "      <td>0.244740</td>\n",
       "      <td>0.145713</td>\n",
       "      <td>1.000000</td>\n",
       "    </tr>\n",
       "  </tbody>\n",
       "</table>\n",
       "</div>"
      ],
      "text/plain": [
       "               age        ed    employ   address    income   debtinc  \\\n",
       "age       1.000000  0.012983  0.554241  0.599949  0.476218  0.008240   \n",
       "ed        0.012983  1.000000 -0.151117  0.052927  0.218219  0.008053   \n",
       "employ    0.554241 -0.151117  1.000000  0.344664  0.625093 -0.033625   \n",
       "address   0.599949  0.052927  0.344664  1.000000  0.308340 -0.032939   \n",
       "income    0.476218  0.218219  0.625093  0.308340  1.000000 -0.035585   \n",
       "debtinc   0.008240  0.008053 -0.033625 -0.032939 -0.035585  1.000000   \n",
       "creddebt  0.278907  0.099080  0.381741  0.161641  0.551515  0.514965   \n",
       "othdebt   0.337841  0.140937  0.414431  0.185481  0.603352  0.572548   \n",
       "default  -0.137657  0.114676 -0.282978 -0.164451 -0.070970  0.389575   \n",
       "\n",
       "          creddebt   othdebt   default  \n",
       "age       0.278907  0.337841 -0.137657  \n",
       "ed        0.099080  0.140937  0.114676  \n",
       "employ    0.381741  0.414431 -0.282978  \n",
       "address   0.161641  0.185481 -0.164451  \n",
       "income    0.551515  0.603352 -0.070970  \n",
       "debtinc   0.514965  0.572548  0.389575  \n",
       "creddebt  1.000000  0.644952  0.244740  \n",
       "othdebt   0.644952  1.000000  0.145713  \n",
       "default   0.244740  0.145713  1.000000  "
      ]
     },
     "execution_count": 8,
     "metadata": {},
     "output_type": "execute_result"
    }
   ],
   "source": [
    "##Checking for the correlaation between the variables\n",
    "bank_loans.corr()"
   ]
  },
  {
   "cell_type": "code",
   "execution_count": 86,
   "id": "c6229ecc",
   "metadata": {},
   "outputs": [
    {
     "data": {
      "text/html": [
       "<div>\n",
       "<style scoped>\n",
       "    .dataframe tbody tr th:only-of-type {\n",
       "        vertical-align: middle;\n",
       "    }\n",
       "\n",
       "    .dataframe tbody tr th {\n",
       "        vertical-align: top;\n",
       "    }\n",
       "\n",
       "    .dataframe thead th {\n",
       "        text-align: right;\n",
       "    }\n",
       "</style>\n",
       "<table border=\"1\" class=\"dataframe\">\n",
       "  <thead>\n",
       "    <tr style=\"text-align: right;\">\n",
       "      <th></th>\n",
       "      <th>age</th>\n",
       "      <th>ed</th>\n",
       "      <th>employ</th>\n",
       "      <th>address</th>\n",
       "      <th>income</th>\n",
       "      <th>debtinc</th>\n",
       "      <th>creddebt</th>\n",
       "      <th>othdebt</th>\n",
       "      <th>default</th>\n",
       "    </tr>\n",
       "  </thead>\n",
       "  <tbody>\n",
       "    <tr>\n",
       "      <th>count</th>\n",
       "      <td>850.000000</td>\n",
       "      <td>850.000000</td>\n",
       "      <td>850.000000</td>\n",
       "      <td>850.000000</td>\n",
       "      <td>850.000000</td>\n",
       "      <td>850.000000</td>\n",
       "      <td>850.000000</td>\n",
       "      <td>850.000000</td>\n",
       "      <td>700.000000</td>\n",
       "    </tr>\n",
       "    <tr>\n",
       "      <th>mean</th>\n",
       "      <td>35.029412</td>\n",
       "      <td>1.710588</td>\n",
       "      <td>8.565882</td>\n",
       "      <td>8.371765</td>\n",
       "      <td>46.675294</td>\n",
       "      <td>10.171647</td>\n",
       "      <td>1.576805</td>\n",
       "      <td>3.078789</td>\n",
       "      <td>0.261429</td>\n",
       "    </tr>\n",
       "    <tr>\n",
       "      <th>std</th>\n",
       "      <td>8.041432</td>\n",
       "      <td>0.927784</td>\n",
       "      <td>6.777884</td>\n",
       "      <td>6.895016</td>\n",
       "      <td>38.543054</td>\n",
       "      <td>6.719441</td>\n",
       "      <td>2.125840</td>\n",
       "      <td>3.398803</td>\n",
       "      <td>0.439727</td>\n",
       "    </tr>\n",
       "    <tr>\n",
       "      <th>min</th>\n",
       "      <td>20.000000</td>\n",
       "      <td>1.000000</td>\n",
       "      <td>0.000000</td>\n",
       "      <td>0.000000</td>\n",
       "      <td>13.000000</td>\n",
       "      <td>0.100000</td>\n",
       "      <td>0.011696</td>\n",
       "      <td>0.045584</td>\n",
       "      <td>0.000000</td>\n",
       "    </tr>\n",
       "    <tr>\n",
       "      <th>25%</th>\n",
       "      <td>29.000000</td>\n",
       "      <td>1.000000</td>\n",
       "      <td>3.000000</td>\n",
       "      <td>3.000000</td>\n",
       "      <td>24.000000</td>\n",
       "      <td>5.100000</td>\n",
       "      <td>0.382176</td>\n",
       "      <td>1.045942</td>\n",
       "      <td>0.000000</td>\n",
       "    </tr>\n",
       "    <tr>\n",
       "      <th>50%</th>\n",
       "      <td>34.000000</td>\n",
       "      <td>1.000000</td>\n",
       "      <td>7.000000</td>\n",
       "      <td>7.000000</td>\n",
       "      <td>35.000000</td>\n",
       "      <td>8.700000</td>\n",
       "      <td>0.885091</td>\n",
       "      <td>2.003243</td>\n",
       "      <td>0.000000</td>\n",
       "    </tr>\n",
       "    <tr>\n",
       "      <th>75%</th>\n",
       "      <td>41.000000</td>\n",
       "      <td>2.000000</td>\n",
       "      <td>13.000000</td>\n",
       "      <td>12.000000</td>\n",
       "      <td>55.750000</td>\n",
       "      <td>13.800000</td>\n",
       "      <td>1.898440</td>\n",
       "      <td>3.903001</td>\n",
       "      <td>1.000000</td>\n",
       "    </tr>\n",
       "    <tr>\n",
       "      <th>max</th>\n",
       "      <td>56.000000</td>\n",
       "      <td>5.000000</td>\n",
       "      <td>33.000000</td>\n",
       "      <td>34.000000</td>\n",
       "      <td>446.000000</td>\n",
       "      <td>41.300000</td>\n",
       "      <td>20.561310</td>\n",
       "      <td>35.197500</td>\n",
       "      <td>1.000000</td>\n",
       "    </tr>\n",
       "  </tbody>\n",
       "</table>\n",
       "</div>"
      ],
      "text/plain": [
       "              age          ed      employ     address      income     debtinc  \\\n",
       "count  850.000000  850.000000  850.000000  850.000000  850.000000  850.000000   \n",
       "mean    35.029412    1.710588    8.565882    8.371765   46.675294   10.171647   \n",
       "std      8.041432    0.927784    6.777884    6.895016   38.543054    6.719441   \n",
       "min     20.000000    1.000000    0.000000    0.000000   13.000000    0.100000   \n",
       "25%     29.000000    1.000000    3.000000    3.000000   24.000000    5.100000   \n",
       "50%     34.000000    1.000000    7.000000    7.000000   35.000000    8.700000   \n",
       "75%     41.000000    2.000000   13.000000   12.000000   55.750000   13.800000   \n",
       "max     56.000000    5.000000   33.000000   34.000000  446.000000   41.300000   \n",
       "\n",
       "         creddebt     othdebt     default  \n",
       "count  850.000000  850.000000  700.000000  \n",
       "mean     1.576805    3.078789    0.261429  \n",
       "std      2.125840    3.398803    0.439727  \n",
       "min      0.011696    0.045584    0.000000  \n",
       "25%      0.382176    1.045942    0.000000  \n",
       "50%      0.885091    2.003243    0.000000  \n",
       "75%      1.898440    3.903001    1.000000  \n",
       "max     20.561310   35.197500    1.000000  "
      ]
     },
     "execution_count": 86,
     "metadata": {},
     "output_type": "execute_result"
    }
   ],
   "source": [
    "##Description of our data\n",
    "bank_loans.describe()"
   ]
  },
  {
   "cell_type": "code",
   "execution_count": 9,
   "id": "5b2550c0",
   "metadata": {},
   "outputs": [],
   "source": [
    "## Dividing the data into existing customer and new customers\n",
    "existing_customers = bank_loans[bank_loans.default.isnull()==False]\n",
    "new_customers = bank_loans[bank_loans.default.isnull()== True]"
   ]
  },
  {
   "cell_type": "code",
   "execution_count": 11,
   "id": "e12760f3",
   "metadata": {},
   "outputs": [
    {
     "data": {
      "text/html": [
       "<div>\n",
       "<style scoped>\n",
       "    .dataframe tbody tr th:only-of-type {\n",
       "        vertical-align: middle;\n",
       "    }\n",
       "\n",
       "    .dataframe tbody tr th {\n",
       "        vertical-align: top;\n",
       "    }\n",
       "\n",
       "    .dataframe thead th {\n",
       "        text-align: right;\n",
       "    }\n",
       "</style>\n",
       "<table border=\"1\" class=\"dataframe\">\n",
       "  <thead>\n",
       "    <tr style=\"text-align: right;\">\n",
       "      <th></th>\n",
       "      <th>age</th>\n",
       "      <th>ed</th>\n",
       "      <th>employ</th>\n",
       "      <th>address</th>\n",
       "      <th>income</th>\n",
       "      <th>debtinc</th>\n",
       "      <th>creddebt</th>\n",
       "      <th>othdebt</th>\n",
       "      <th>default</th>\n",
       "    </tr>\n",
       "  </thead>\n",
       "  <tbody>\n",
       "    <tr>\n",
       "      <th>0</th>\n",
       "      <td>41</td>\n",
       "      <td>3</td>\n",
       "      <td>17</td>\n",
       "      <td>12</td>\n",
       "      <td>176</td>\n",
       "      <td>9.3</td>\n",
       "      <td>11.359392</td>\n",
       "      <td>5.008608</td>\n",
       "      <td>1.0</td>\n",
       "    </tr>\n",
       "    <tr>\n",
       "      <th>1</th>\n",
       "      <td>27</td>\n",
       "      <td>1</td>\n",
       "      <td>10</td>\n",
       "      <td>6</td>\n",
       "      <td>31</td>\n",
       "      <td>17.3</td>\n",
       "      <td>1.362202</td>\n",
       "      <td>4.000798</td>\n",
       "      <td>0.0</td>\n",
       "    </tr>\n",
       "    <tr>\n",
       "      <th>2</th>\n",
       "      <td>40</td>\n",
       "      <td>1</td>\n",
       "      <td>15</td>\n",
       "      <td>14</td>\n",
       "      <td>55</td>\n",
       "      <td>5.5</td>\n",
       "      <td>0.856075</td>\n",
       "      <td>2.168925</td>\n",
       "      <td>0.0</td>\n",
       "    </tr>\n",
       "    <tr>\n",
       "      <th>3</th>\n",
       "      <td>41</td>\n",
       "      <td>1</td>\n",
       "      <td>15</td>\n",
       "      <td>14</td>\n",
       "      <td>120</td>\n",
       "      <td>2.9</td>\n",
       "      <td>2.658720</td>\n",
       "      <td>0.821280</td>\n",
       "      <td>0.0</td>\n",
       "    </tr>\n",
       "    <tr>\n",
       "      <th>4</th>\n",
       "      <td>24</td>\n",
       "      <td>2</td>\n",
       "      <td>2</td>\n",
       "      <td>0</td>\n",
       "      <td>28</td>\n",
       "      <td>17.3</td>\n",
       "      <td>1.787436</td>\n",
       "      <td>3.056564</td>\n",
       "      <td>1.0</td>\n",
       "    </tr>\n",
       "  </tbody>\n",
       "</table>\n",
       "</div>"
      ],
      "text/plain": [
       "   age  ed  employ  address  income  debtinc   creddebt   othdebt  default\n",
       "0   41   3      17       12     176      9.3  11.359392  5.008608      1.0\n",
       "1   27   1      10        6      31     17.3   1.362202  4.000798      0.0\n",
       "2   40   1      15       14      55      5.5   0.856075  2.168925      0.0\n",
       "3   41   1      15       14     120      2.9   2.658720  0.821280      0.0\n",
       "4   24   2       2        0      28     17.3   1.787436  3.056564      1.0"
      ]
     },
     "execution_count": 11,
     "metadata": {},
     "output_type": "execute_result"
    }
   ],
   "source": [
    "existing_customers.head()"
   ]
  },
  {
   "cell_type": "code",
   "execution_count": 12,
   "id": "79edcff4",
   "metadata": {},
   "outputs": [
    {
     "data": {
      "text/html": [
       "<div>\n",
       "<style scoped>\n",
       "    .dataframe tbody tr th:only-of-type {\n",
       "        vertical-align: middle;\n",
       "    }\n",
       "\n",
       "    .dataframe tbody tr th {\n",
       "        vertical-align: top;\n",
       "    }\n",
       "\n",
       "    .dataframe thead th {\n",
       "        text-align: right;\n",
       "    }\n",
       "</style>\n",
       "<table border=\"1\" class=\"dataframe\">\n",
       "  <thead>\n",
       "    <tr style=\"text-align: right;\">\n",
       "      <th></th>\n",
       "      <th>age</th>\n",
       "      <th>ed</th>\n",
       "      <th>employ</th>\n",
       "      <th>address</th>\n",
       "      <th>income</th>\n",
       "      <th>debtinc</th>\n",
       "      <th>creddebt</th>\n",
       "      <th>othdebt</th>\n",
       "      <th>default</th>\n",
       "    </tr>\n",
       "  </thead>\n",
       "  <tbody>\n",
       "    <tr>\n",
       "      <th>700</th>\n",
       "      <td>36</td>\n",
       "      <td>1</td>\n",
       "      <td>16</td>\n",
       "      <td>13</td>\n",
       "      <td>32</td>\n",
       "      <td>10.9</td>\n",
       "      <td>0.544128</td>\n",
       "      <td>2.943872</td>\n",
       "      <td>NaN</td>\n",
       "    </tr>\n",
       "    <tr>\n",
       "      <th>701</th>\n",
       "      <td>50</td>\n",
       "      <td>1</td>\n",
       "      <td>6</td>\n",
       "      <td>27</td>\n",
       "      <td>21</td>\n",
       "      <td>12.9</td>\n",
       "      <td>1.316574</td>\n",
       "      <td>1.392426</td>\n",
       "      <td>NaN</td>\n",
       "    </tr>\n",
       "    <tr>\n",
       "      <th>702</th>\n",
       "      <td>40</td>\n",
       "      <td>1</td>\n",
       "      <td>9</td>\n",
       "      <td>9</td>\n",
       "      <td>33</td>\n",
       "      <td>17.0</td>\n",
       "      <td>4.880700</td>\n",
       "      <td>0.729300</td>\n",
       "      <td>NaN</td>\n",
       "    </tr>\n",
       "    <tr>\n",
       "      <th>703</th>\n",
       "      <td>31</td>\n",
       "      <td>1</td>\n",
       "      <td>5</td>\n",
       "      <td>7</td>\n",
       "      <td>23</td>\n",
       "      <td>2.0</td>\n",
       "      <td>0.046000</td>\n",
       "      <td>0.414000</td>\n",
       "      <td>NaN</td>\n",
       "    </tr>\n",
       "    <tr>\n",
       "      <th>704</th>\n",
       "      <td>29</td>\n",
       "      <td>1</td>\n",
       "      <td>4</td>\n",
       "      <td>0</td>\n",
       "      <td>24</td>\n",
       "      <td>7.8</td>\n",
       "      <td>0.866736</td>\n",
       "      <td>1.005264</td>\n",
       "      <td>NaN</td>\n",
       "    </tr>\n",
       "  </tbody>\n",
       "</table>\n",
       "</div>"
      ],
      "text/plain": [
       "     age  ed  employ  address  income  debtinc  creddebt   othdebt  default\n",
       "700   36   1      16       13      32     10.9  0.544128  2.943872      NaN\n",
       "701   50   1       6       27      21     12.9  1.316574  1.392426      NaN\n",
       "702   40   1       9        9      33     17.0  4.880700  0.729300      NaN\n",
       "703   31   1       5        7      23      2.0  0.046000  0.414000      NaN\n",
       "704   29   1       4        0      24      7.8  0.866736  1.005264      NaN"
      ]
     },
     "execution_count": 12,
     "metadata": {},
     "output_type": "execute_result"
    }
   ],
   "source": [
    "new_customers.head()"
   ]
  },
  {
   "cell_type": "markdown",
   "id": "269b2604",
   "metadata": {},
   "source": [
    "# Exploratory Data Analysis"
   ]
  },
  {
   "cell_type": "code",
   "execution_count": 13,
   "id": "47404321",
   "metadata": {},
   "outputs": [],
   "source": [
    "#We decide to make education a categorical variable as well as the dependent variable "
   ]
  },
  {
   "cell_type": "code",
   "execution_count": 14,
   "id": "355957d1",
   "metadata": {},
   "outputs": [],
   "source": [
    "education= {1: 'Graduate School',2: 'College',3: 'High School',4: 'Middle School,',5: 'Others'}\n",
    "default = {0: 'Never_default', 1:'Default'}"
   ]
  },
  {
   "cell_type": "code",
   "execution_count": 35,
   "id": "485f4fbb",
   "metadata": {},
   "outputs": [],
   "source": [
    "existing_customers['ed'] = existing_customers.ed.map(education)\n",
    "existing_customers['default'] = existing_customers.default.map(default)"
   ]
  },
  {
   "cell_type": "code",
   "execution_count": 36,
   "id": "cf141b45",
   "metadata": {},
   "outputs": [
    {
     "data": {
      "text/html": [
       "<div>\n",
       "<style scoped>\n",
       "    .dataframe tbody tr th:only-of-type {\n",
       "        vertical-align: middle;\n",
       "    }\n",
       "\n",
       "    .dataframe tbody tr th {\n",
       "        vertical-align: top;\n",
       "    }\n",
       "\n",
       "    .dataframe thead th {\n",
       "        text-align: right;\n",
       "    }\n",
       "</style>\n",
       "<table border=\"1\" class=\"dataframe\">\n",
       "  <thead>\n",
       "    <tr style=\"text-align: right;\">\n",
       "      <th></th>\n",
       "      <th>age</th>\n",
       "      <th>ed</th>\n",
       "      <th>employ</th>\n",
       "      <th>address</th>\n",
       "      <th>income</th>\n",
       "      <th>debtinc</th>\n",
       "      <th>creddebt</th>\n",
       "      <th>othdebt</th>\n",
       "      <th>default</th>\n",
       "    </tr>\n",
       "  </thead>\n",
       "  <tbody>\n",
       "    <tr>\n",
       "      <th>0</th>\n",
       "      <td>41</td>\n",
       "      <td>High School</td>\n",
       "      <td>17</td>\n",
       "      <td>12</td>\n",
       "      <td>176</td>\n",
       "      <td>9.3</td>\n",
       "      <td>11.359392</td>\n",
       "      <td>5.008608</td>\n",
       "      <td>Default</td>\n",
       "    </tr>\n",
       "    <tr>\n",
       "      <th>1</th>\n",
       "      <td>27</td>\n",
       "      <td>Graduate School</td>\n",
       "      <td>10</td>\n",
       "      <td>6</td>\n",
       "      <td>31</td>\n",
       "      <td>17.3</td>\n",
       "      <td>1.362202</td>\n",
       "      <td>4.000798</td>\n",
       "      <td>Never_default</td>\n",
       "    </tr>\n",
       "    <tr>\n",
       "      <th>2</th>\n",
       "      <td>40</td>\n",
       "      <td>Graduate School</td>\n",
       "      <td>15</td>\n",
       "      <td>14</td>\n",
       "      <td>55</td>\n",
       "      <td>5.5</td>\n",
       "      <td>0.856075</td>\n",
       "      <td>2.168925</td>\n",
       "      <td>Never_default</td>\n",
       "    </tr>\n",
       "    <tr>\n",
       "      <th>3</th>\n",
       "      <td>41</td>\n",
       "      <td>Graduate School</td>\n",
       "      <td>15</td>\n",
       "      <td>14</td>\n",
       "      <td>120</td>\n",
       "      <td>2.9</td>\n",
       "      <td>2.658720</td>\n",
       "      <td>0.821280</td>\n",
       "      <td>Never_default</td>\n",
       "    </tr>\n",
       "    <tr>\n",
       "      <th>4</th>\n",
       "      <td>24</td>\n",
       "      <td>College</td>\n",
       "      <td>2</td>\n",
       "      <td>0</td>\n",
       "      <td>28</td>\n",
       "      <td>17.3</td>\n",
       "      <td>1.787436</td>\n",
       "      <td>3.056564</td>\n",
       "      <td>Default</td>\n",
       "    </tr>\n",
       "  </tbody>\n",
       "</table>\n",
       "</div>"
      ],
      "text/plain": [
       "   age               ed  employ  address  income  debtinc   creddebt  \\\n",
       "0   41      High School      17       12     176      9.3  11.359392   \n",
       "1   27  Graduate School      10        6      31     17.3   1.362202   \n",
       "2   40  Graduate School      15       14      55      5.5   0.856075   \n",
       "3   41  Graduate School      15       14     120      2.9   2.658720   \n",
       "4   24          College       2        0      28     17.3   1.787436   \n",
       "\n",
       "    othdebt        default  \n",
       "0  5.008608        Default  \n",
       "1  4.000798  Never_default  \n",
       "2  2.168925  Never_default  \n",
       "3  0.821280  Never_default  \n",
       "4  3.056564        Default  "
      ]
     },
     "execution_count": 36,
     "metadata": {},
     "output_type": "execute_result"
    }
   ],
   "source": [
    "existing_customers.head()"
   ]
  },
  {
   "cell_type": "code",
   "execution_count": null,
   "id": "5484dc5e",
   "metadata": {},
   "outputs": [],
   "source": []
  },
  {
   "cell_type": "code",
   "execution_count": 37,
   "id": "e7776f05",
   "metadata": {},
   "outputs": [
    {
     "data": {
      "text/plain": [
       "Text(0.5, 1.0, 'Frequency of the defaults')"
      ]
     },
     "execution_count": 37,
     "metadata": {},
     "output_type": "execute_result"
    },
    {
     "data": {
      "image/png": "[encoded data removed]",
      "text/plain": [
       "<Figure size 432x288 with 1 Axes>"
      ]
     },
     "metadata": {
      "needs_background": "light"
     },
     "output_type": "display_data"
    }
   ],
   "source": [
    "##Distribution of the target variable\n",
    "existing_customers.default.value_counts().plot(kind='bar')\n",
    "plt.title('Frequency of the defaults')"
   ]
  },
  {
   "cell_type": "code",
   "execution_count": 131,
   "id": "b5a6c554",
   "metadata": {},
   "outputs": [],
   "source": [
    "## From the above, we can see that we have more people who have never defaulted than defaulters for existing customers."
   ]
  },
  {
   "cell_type": "code",
   "execution_count": 38,
   "id": "18dcaf1c",
   "metadata": {},
   "outputs": [],
   "source": [
    "cat_var = existing_customers.select_dtypes(include='object')\n",
    "num_var = existing_customers.select_dtypes(include='number')"
   ]
  },
  {
   "cell_type": "code",
   "execution_count": 39,
   "id": "1859d281",
   "metadata": {},
   "outputs": [
    {
     "data": {
      "text/html": [
       "<div>\n",
       "<style scoped>\n",
       "    .dataframe tbody tr th:only-of-type {\n",
       "        vertical-align: middle;\n",
       "    }\n",
       "\n",
       "    .dataframe tbody tr th {\n",
       "        vertical-align: top;\n",
       "    }\n",
       "\n",
       "    .dataframe thead th {\n",
       "        text-align: right;\n",
       "    }\n",
       "</style>\n",
       "<table border=\"1\" class=\"dataframe\">\n",
       "  <thead>\n",
       "    <tr style=\"text-align: right;\">\n",
       "      <th></th>\n",
       "      <th>age</th>\n",
       "      <th>employ</th>\n",
       "      <th>address</th>\n",
       "      <th>income</th>\n",
       "      <th>debtinc</th>\n",
       "      <th>creddebt</th>\n",
       "      <th>othdebt</th>\n",
       "    </tr>\n",
       "  </thead>\n",
       "  <tbody>\n",
       "    <tr>\n",
       "      <th>0</th>\n",
       "      <td>41</td>\n",
       "      <td>17</td>\n",
       "      <td>12</td>\n",
       "      <td>176</td>\n",
       "      <td>9.3</td>\n",
       "      <td>11.359392</td>\n",
       "      <td>5.008608</td>\n",
       "    </tr>\n",
       "    <tr>\n",
       "      <th>1</th>\n",
       "      <td>27</td>\n",
       "      <td>10</td>\n",
       "      <td>6</td>\n",
       "      <td>31</td>\n",
       "      <td>17.3</td>\n",
       "      <td>1.362202</td>\n",
       "      <td>4.000798</td>\n",
       "    </tr>\n",
       "    <tr>\n",
       "      <th>2</th>\n",
       "      <td>40</td>\n",
       "      <td>15</td>\n",
       "      <td>14</td>\n",
       "      <td>55</td>\n",
       "      <td>5.5</td>\n",
       "      <td>0.856075</td>\n",
       "      <td>2.168925</td>\n",
       "    </tr>\n",
       "    <tr>\n",
       "      <th>3</th>\n",
       "      <td>41</td>\n",
       "      <td>15</td>\n",
       "      <td>14</td>\n",
       "      <td>120</td>\n",
       "      <td>2.9</td>\n",
       "      <td>2.658720</td>\n",
       "      <td>0.821280</td>\n",
       "    </tr>\n",
       "    <tr>\n",
       "      <th>4</th>\n",
       "      <td>24</td>\n",
       "      <td>2</td>\n",
       "      <td>0</td>\n",
       "      <td>28</td>\n",
       "      <td>17.3</td>\n",
       "      <td>1.787436</td>\n",
       "      <td>3.056564</td>\n",
       "    </tr>\n",
       "    <tr>\n",
       "      <th>...</th>\n",
       "      <td>...</td>\n",
       "      <td>...</td>\n",
       "      <td>...</td>\n",
       "      <td>...</td>\n",
       "      <td>...</td>\n",
       "      <td>...</td>\n",
       "      <td>...</td>\n",
       "    </tr>\n",
       "    <tr>\n",
       "      <th>695</th>\n",
       "      <td>36</td>\n",
       "      <td>6</td>\n",
       "      <td>15</td>\n",
       "      <td>27</td>\n",
       "      <td>4.6</td>\n",
       "      <td>0.262062</td>\n",
       "      <td>0.979938</td>\n",
       "    </tr>\n",
       "    <tr>\n",
       "      <th>696</th>\n",
       "      <td>29</td>\n",
       "      <td>6</td>\n",
       "      <td>4</td>\n",
       "      <td>21</td>\n",
       "      <td>11.5</td>\n",
       "      <td>0.369495</td>\n",
       "      <td>2.045505</td>\n",
       "    </tr>\n",
       "    <tr>\n",
       "      <th>697</th>\n",
       "      <td>33</td>\n",
       "      <td>15</td>\n",
       "      <td>3</td>\n",
       "      <td>32</td>\n",
       "      <td>7.6</td>\n",
       "      <td>0.491264</td>\n",
       "      <td>1.940736</td>\n",
       "    </tr>\n",
       "    <tr>\n",
       "      <th>698</th>\n",
       "      <td>45</td>\n",
       "      <td>19</td>\n",
       "      <td>22</td>\n",
       "      <td>77</td>\n",
       "      <td>8.4</td>\n",
       "      <td>2.302608</td>\n",
       "      <td>4.165392</td>\n",
       "    </tr>\n",
       "    <tr>\n",
       "      <th>699</th>\n",
       "      <td>37</td>\n",
       "      <td>12</td>\n",
       "      <td>14</td>\n",
       "      <td>44</td>\n",
       "      <td>14.7</td>\n",
       "      <td>2.994684</td>\n",
       "      <td>3.473316</td>\n",
       "    </tr>\n",
       "  </tbody>\n",
       "</table>\n",
       "<p>700 rows × 7 columns</p>\n",
       "</div>"
      ],
      "text/plain": [
       "     age  employ  address  income  debtinc   creddebt   othdebt\n",
       "0     41      17       12     176      9.3  11.359392  5.008608\n",
       "1     27      10        6      31     17.3   1.362202  4.000798\n",
       "2     40      15       14      55      5.5   0.856075  2.168925\n",
       "3     41      15       14     120      2.9   2.658720  0.821280\n",
       "4     24       2        0      28     17.3   1.787436  3.056564\n",
       "..   ...     ...      ...     ...      ...        ...       ...\n",
       "695   36       6       15      27      4.6   0.262062  0.979938\n",
       "696   29       6        4      21     11.5   0.369495  2.045505\n",
       "697   33      15        3      32      7.6   0.491264  1.940736\n",
       "698   45      19       22      77      8.4   2.302608  4.165392\n",
       "699   37      12       14      44     14.7   2.994684  3.473316\n",
       "\n",
       "[700 rows x 7 columns]"
      ]
     },
     "execution_count": 39,
     "metadata": {},
     "output_type": "execute_result"
    }
   ],
   "source": [
    "num_var"
   ]
  },
  {
   "cell_type": "code",
   "execution_count": 40,
   "id": "4b5ff374",
   "metadata": {},
   "outputs": [],
   "source": [
    "categories = existing_customers['ed']"
   ]
  },
  {
   "cell_type": "code",
   "execution_count": 44,
   "id": "a3cf86b2",
   "metadata": {},
   "outputs": [
    {
     "data": {
      "image/png": "[encoded data removed]",
      "text/plain": [
       "<Figure size 720x360 with 1 Axes>"
      ]
     },
     "metadata": {},
     "output_type": "display_data"
    },
    {
     "data": {
      "image/png": "[encoded data removed]",
      "text/plain": [
       "<Figure size 720x360 with 1 Axes>"
      ]
     },
     "metadata": {},
     "output_type": "display_data"
    }
   ],
   "source": [
    "##Visualizing the categorical variables\n",
    "for i in cat_var.columns:\n",
    "    plt.figure(figsize=(10,5))\n",
    "    cat_var[i].value_counts().plot(kind= 'pie',autopct ='%1.2f%%')\n",
    "    plt.legend(loc =6)\n",
    "    plt.show()   "
   ]
  },
  {
   "cell_type": "markdown",
   "id": "171bb450",
   "metadata": {},
   "source": [
    "We can see that our data consist of more people with Graduate education than the other education level.\n"
   ]
  },
  {
   "cell_type": "code",
   "execution_count": 46,
   "id": "ef7d5cd2",
   "metadata": {},
   "outputs": [
    {
     "data": {
      "image/png": "[encoded data removed]",
      "text/plain": [
       "<Figure size 720x360 with 1 Axes>"
      ]
     },
     "metadata": {
      "needs_background": "light"
     },
     "output_type": "display_data"
    },
    {
     "data": {
      "image/png": "[encoded data removed]",
      "text/plain": [
       "<Figure size 720x360 with 1 Axes>"
      ]
     },
     "metadata": {
      "needs_background": "light"
     },
     "output_type": "display_data"
    }
   ],
   "source": [
    "for i in cat_var.columns:\n",
    "    plt.figure(figsize=(10,5))\n",
    "    sns.countplot(x=i, data= existing_customers)"
   ]
  },
  {
   "cell_type": "code",
   "execution_count": 47,
   "id": "f034d251",
   "metadata": {},
   "outputs": [
    {
     "data": {
      "text/html": [
       "<div>\n",
       "<style scoped>\n",
       "    .dataframe tbody tr th:only-of-type {\n",
       "        vertical-align: middle;\n",
       "    }\n",
       "\n",
       "    .dataframe tbody tr th {\n",
       "        vertical-align: top;\n",
       "    }\n",
       "\n",
       "    .dataframe thead th {\n",
       "        text-align: right;\n",
       "    }\n",
       "</style>\n",
       "<table border=\"1\" class=\"dataframe\">\n",
       "  <thead>\n",
       "    <tr style=\"text-align: right;\">\n",
       "      <th>default</th>\n",
       "      <th>Default</th>\n",
       "      <th>Never_default</th>\n",
       "    </tr>\n",
       "    <tr>\n",
       "      <th>ed</th>\n",
       "      <th></th>\n",
       "      <th></th>\n",
       "    </tr>\n",
       "  </thead>\n",
       "  <tbody>\n",
       "    <tr>\n",
       "      <th>College</th>\n",
       "      <td>59</td>\n",
       "      <td>139</td>\n",
       "    </tr>\n",
       "    <tr>\n",
       "      <th>Graduate School</th>\n",
       "      <td>79</td>\n",
       "      <td>293</td>\n",
       "    </tr>\n",
       "    <tr>\n",
       "      <th>High School</th>\n",
       "      <td>30</td>\n",
       "      <td>57</td>\n",
       "    </tr>\n",
       "    <tr>\n",
       "      <th>Middle School,</th>\n",
       "      <td>14</td>\n",
       "      <td>24</td>\n",
       "    </tr>\n",
       "    <tr>\n",
       "      <th>Others</th>\n",
       "      <td>1</td>\n",
       "      <td>4</td>\n",
       "    </tr>\n",
       "  </tbody>\n",
       "</table>\n",
       "</div>"
      ],
      "text/plain": [
       "default          Default  Never_default\n",
       "ed                                     \n",
       "College               59            139\n",
       "Graduate School       79            293\n",
       "High School           30             57\n",
       "Middle School,        14             24\n",
       "Others                 1              4"
      ]
     },
     "execution_count": 47,
     "metadata": {},
     "output_type": "execute_result"
    }
   ],
   "source": [
    "## levels of education grouped into default and never default\n",
    "pd.crosstab(existing_customers.ed,existing_customers.default)"
   ]
  },
  {
   "cell_type": "code",
   "execution_count": 48,
   "id": "89694f3c",
   "metadata": {},
   "outputs": [
    {
     "data": {
      "text/plain": [
       "Text(0.5, 1.0, 'Default types at various educational level')"
      ]
     },
     "execution_count": 48,
     "metadata": {},
     "output_type": "execute_result"
    },
    {
     "data": {
      "image/png": "[encoded data removed]",
      "text/plain": [
       "<Figure size 432x288 with 1 Axes>"
      ]
     },
     "metadata": {
      "needs_background": "light"
     },
     "output_type": "display_data"
    }
   ],
   "source": [
    "## relationship between education and defaults\n",
    "pd.crosstab(existing_customers.ed,existing_customers.default).plot(kind='bar')\n",
    "plt.ylabel('default')\n",
    "plt.title('Default types at various educational level')"
   ]
  },
  {
   "cell_type": "code",
   "execution_count": 49,
   "id": "31778fb0",
   "metadata": {},
   "outputs": [
    {
     "data": {
      "image/png": "[encoded data removed]",
      "text/plain": [
       "<Figure size 432x288 with 1 Axes>"
      ]
     },
     "metadata": {
      "needs_background": "light"
     },
     "output_type": "display_data"
    },
    {
     "data": {
      "image/png": "[encoded data removed]",
      "text/plain": [
       "<Figure size 432x288 with 1 Axes>"
      ]
     },
     "metadata": {
      "needs_background": "light"
     },
     "output_type": "display_data"
    },
    {
     "data": {
      "image/png": "[encoded data removed]",
      "text/plain": [
       "<Figure size 432x288 with 1 Axes>"
      ]
     },
     "metadata": {
      "needs_background": "light"
     },
     "output_type": "display_data"
    },
    {
     "data": {
      "image/png": "[encoded data removed]",
      "text/plain": [
       "<Figure size 432x288 with 1 Axes>"
      ]
     },
     "metadata": {
      "needs_background": "light"
     },
     "output_type": "display_data"
    },
    {
     "data": {
      "image/png": "[encoded data removed]",
      "text/plain": [
       "<Figure size 432x288 with 1 Axes>"
      ]
     },
     "metadata": {
      "needs_background": "light"
     },
     "output_type": "display_data"
    },
    {
     "data": {
      "image/png": "[encoded data removed]",
      "text/plain": [
       "<Figure size 432x288 with 1 Axes>"
      ]
     },
     "metadata": {
      "needs_background": "light"
     },
     "output_type": "display_data"
    },
    {
     "data": {
      "image/png": "[encoded data removed]",
      "text/plain": [
       "<Figure size 432x288 with 1 Axes>"
      ]
     },
     "metadata": {
      "needs_background": "light"
     },
     "output_type": "display_data"
    }
   ],
   "source": [
    "##distribution of the numerical vaules \n",
    "for i in num_var.columns:\n",
    "    plt.figure()\n",
    "    sns.distplot(num_var[i])\n",
    "    plt.title(f'Density graph of {i}')"
   ]
  },
  {
   "cell_type": "code",
   "execution_count": 79,
   "id": "955e5db0",
   "metadata": {},
   "outputs": [],
   "source": [
    "## from the age graph, we can see that our data is largely dominated by people between the age group  \n",
    "## for years of employment, we can see that the data is skewed with 0 to 3 years being the highest tenure with current employer\n",
    "## same right skewed for address, income,debt to income ratio, credit to income ratio and other debts"
   ]
  },
  {
   "cell_type": "code",
   "execution_count": 50,
   "id": "c0f4944a",
   "metadata": {},
   "outputs": [
    {
     "data": {
      "image/png": "[encoded data removed]",
      "text/plain": [
       "<Figure size 432x288 with 1 Axes>"
      ]
     },
     "metadata": {
      "needs_background": "light"
     },
     "output_type": "display_data"
    },
    {
     "data": {
      "image/png": "[encoded data removed]",
      "text/plain": [
       "<Figure size 432x288 with 1 Axes>"
      ]
     },
     "metadata": {
      "needs_background": "light"
     },
     "output_type": "display_data"
    },
    {
     "data": {
      "image/png": "[encoded data removed]",
      "text/plain": [
       "<Figure size 432x288 with 1 Axes>"
      ]
     },
     "metadata": {
      "needs_background": "light"
     },
     "output_type": "display_data"
    },
    {
     "data": {
      "image/png": "[encoded data removed]",
      "text/plain": [
       "<Figure size 432x288 with 1 Axes>"
      ]
     },
     "metadata": {
      "needs_background": "light"
     },
     "output_type": "display_data"
    },
    {
     "data": {
      "image/png": "[encoded data removed]",
      "text/plain": [
       "<Figure size 432x288 with 1 Axes>"
      ]
     },
     "metadata": {
      "needs_background": "light"
     },
     "output_type": "display_data"
    },
    {
     "data": {
      "image/png": "[encoded data removed]",
      "text/plain": [
       "<Figure size 432x288 with 1 Axes>"
      ]
     },
     "metadata": {
      "needs_background": "light"
     },
     "output_type": "display_data"
    },
    {
     "data": {
      "image/png": "[encoded data removed]",
      "text/plain": [
       "<Figure size 432x288 with 1 Axes>"
      ]
     },
     "metadata": {
      "needs_background": "light"
     },
     "output_type": "display_data"
    }
   ],
   "source": [
    "## Understanding the relationship between the numerical variables and the dependent variable\n",
    "for i in num_var:\n",
    "    plt.figure()\n",
    "    sns.boxplot(x='default', y=i, data=existing_customers)"
   ]
  },
  {
   "cell_type": "markdown",
   "id": "23e0f8d5",
   "metadata": {},
   "source": [
    "##Information from the figures above,\n",
    "1. for age, it can be clearly seen the defaulters are people in the lower age groups.\n",
    "2. for employ, people with lower tenure with current employer that is people who recently got employed tends to default more.\n",
    "3. for address, people who have lived or are living at the same location for a short time tends to default more.\n",
    "4. for income, the graph shows that low income earners tends to default more.\n",
    "5. for debtinc, people with a higher percentage of their incomes financing debts tends to default more which logically makes sense.\n",
    "6. for creddebt, a higher creddebt means the person will default.\n",
    "7. for otherdebt, people with other debts higher tends to default."
   ]
  },
  {
   "cell_type": "code",
   "execution_count": null,
   "id": "6cc7d995",
   "metadata": {},
   "outputs": [],
   "source": []
  },
  {
   "cell_type": "markdown",
   "id": "35a2f977",
   "metadata": {},
   "source": [
    "# Model"
   ]
  },
  {
   "cell_type": "markdown",
   "id": "54a6e12a",
   "metadata": {},
   "source": [
    "### Random Forest"
   ]
  },
  {
   "cell_type": "code",
   "execution_count": null,
   "id": "9136a8cd",
   "metadata": {},
   "outputs": [],
   "source": [
    "## From the frequency of our data on default, we realised there a class imbalance ie. we have more non defaults than the defaults, we first try using the random forest algorithm."
   ]
  },
  {
   "cell_type": "code",
   "execution_count": 74,
   "id": "7d505c9c",
   "metadata": {},
   "outputs": [],
   "source": [
    "existing_customers1 = bank_loans[bank_loans.default.isnull()==False]"
   ]
  },
  {
   "cell_type": "code",
   "execution_count": 76,
   "id": "7b0fbb23",
   "metadata": {},
   "outputs": [],
   "source": [
    "X = existing_customers1.drop(['age','ed','default'], axis=1)"
   ]
  },
  {
   "cell_type": "code",
   "execution_count": 56,
   "id": "872b6526",
   "metadata": {},
   "outputs": [],
   "source": [
    "y = existing_customers1.default"
   ]
  },
  {
   "cell_type": "code",
   "execution_count": 112,
   "id": "448ecba6",
   "metadata": {},
   "outputs": [],
   "source": [
    "X_train, X_test, y_train, y_test = train_test_split(X ,y, random_state=0,test_size = 0.20)"
   ]
  },
  {
   "cell_type": "code",
   "execution_count": 113,
   "id": "d932a256",
   "metadata": {},
   "outputs": [],
   "source": [
    "rforest_model = RandomForestClassifier(n_estimators=80,criterion='entropy',\n",
    "                                       random_state= 10, bootstrap=['True','False'] )"
   ]
  },
  {
   "cell_type": "code",
   "execution_count": 114,
   "id": "347e5ab6",
   "metadata": {},
   "outputs": [
    {
     "data": {
      "text/plain": [
       "RandomForestClassifier(bootstrap=['True', 'False'], criterion='entropy',\n",
       "                       n_estimators=80, random_state=10)"
      ]
     },
     "execution_count": 114,
     "metadata": {},
     "output_type": "execute_result"
    }
   ],
   "source": [
    "rforest_model.fit(X_train,y_train)"
   ]
  },
  {
   "cell_type": "code",
   "execution_count": 115,
   "id": "198f2b77",
   "metadata": {
    "scrolled": true
   },
   "outputs": [],
   "source": [
    "y_pred =rforest_model.predict(X_test)"
   ]
  },
  {
   "cell_type": "code",
   "execution_count": 116,
   "id": "a2635a0f",
   "metadata": {},
   "outputs": [],
   "source": [
    "forest_sc = cross_val_predict(rforest_model, X_test, y_test, cv=10)"
   ]
  },
  {
   "cell_type": "code",
   "execution_count": 117,
   "id": "91d6f5ab",
   "metadata": {
    "scrolled": true
   },
   "outputs": [
    {
     "name": "stdout",
     "output_type": "stream",
     "text": [
      "              precision    recall  f1-score   support\n",
      "\n",
      "         0.0       0.76      0.89      0.82       101\n",
      "         1.0       0.48      0.26      0.33        39\n",
      "\n",
      "    accuracy                           0.71       140\n",
      "   macro avg       0.62      0.57      0.58       140\n",
      "weighted avg       0.68      0.71      0.68       140\n",
      "\n"
     ]
    }
   ],
   "source": [
    "## Evaluating model based on the various metrics\n",
    "print(metrics.classification_report(y_test, forest_sc))"
   ]
  },
  {
   "cell_type": "code",
   "execution_count": 126,
   "id": "459bff21",
   "metadata": {},
   "outputs": [
    {
     "data": {
      "text/plain": [
       "<AxesSubplot:>"
      ]
     },
     "execution_count": 126,
     "metadata": {},
     "output_type": "execute_result"
    },
    {
     "data": {
      "image/png": "[encoded data removed]",
      "text/plain": [
       "<Figure size 432x288 with 2 Axes>"
      ]
     },
     "metadata": {
      "needs_background": "light"
     },
     "output_type": "display_data"
    }
   ],
   "source": [
    "sns.heatmap(metrics.confusion_matrix(y_test,forest_sc), annot=True)"
   ]
  },
  {
   "cell_type": "markdown",
   "id": "c921ae9f",
   "metadata": {},
   "source": [
    "From the confusion matrix, we can see that there are 101 people and te model truly classified 90 people as non defaulter and wrongly classified 11 people as defaulters.\n",
    "\n",
    "Also, out of the 39 people, the model correctly classified 10 as defaulter and wrongly classified 29 people as non defaulters."
   ]
  },
  {
   "cell_type": "markdown",
   "id": "7bb7045c",
   "metadata": {},
   "source": [
    "### Support Vector Machine"
   ]
  },
  {
   "cell_type": "code",
   "execution_count": null,
   "id": "b8342d48",
   "metadata": {},
   "outputs": [],
   "source": [
    "X_train, X_test, y_train, y_test = train_test_split(X ,y, random_state=0,test_size = 0.20)"
   ]
  },
  {
   "cell_type": "code",
   "execution_count": 119,
   "id": "fcf2e298",
   "metadata": {},
   "outputs": [],
   "source": [
    "# Creating an SVM classifier with a linear kernel\n",
    "exi_clf = svm.SVC(kernel='linear')\n",
    "\n",
    "##training the model\n",
    "exi_clf.fit(X_train,y_train)\n",
    "\n",
    "##predicting the respone dataset\n",
    "y_pred = exi_clf.predict(X_test)"
   ]
  },
  {
   "cell_type": "code",
   "execution_count": 122,
   "id": "bff75d5d",
   "metadata": {},
   "outputs": [],
   "source": [
    "exi_sc = cross_val_predict(exi_clf, X_test, y_test, cv=10)"
   ]
  },
  {
   "cell_type": "code",
   "execution_count": 123,
   "id": "a5e38260",
   "metadata": {},
   "outputs": [
    {
     "name": "stdout",
     "output_type": "stream",
     "text": [
      "              precision    recall  f1-score   support\n",
      "\n",
      "         0.0       0.78      0.88      0.83       101\n",
      "         1.0       0.54      0.36      0.43        39\n",
      "\n",
      "    accuracy                           0.74       140\n",
      "   macro avg       0.66      0.62      0.63       140\n",
      "weighted avg       0.71      0.74      0.72       140\n",
      "\n"
     ]
    }
   ],
   "source": [
    "print(metrics.classification_report(y_test, exi_sc))"
   ]
  },
  {
   "cell_type": "code",
   "execution_count": 124,
   "id": "5b9e9bf5",
   "metadata": {},
   "outputs": [
    {
     "data": {
      "text/plain": [
       "<AxesSubplot:>"
      ]
     },
     "execution_count": 124,
     "metadata": {},
     "output_type": "execute_result"
    },
    {
     "data": {
      "image/png": "[encoded data removed]",
      "text/plain": [
       "<Figure size 432x288 with 2 Axes>"
      ]
     },
     "metadata": {
      "needs_background": "light"
     },
     "output_type": "display_data"
    }
   ],
   "source": [
    "sns.heatmap(metrics.confusion_matrix(y_test,exi_sc), annot=True)"
   ]
  },
  {
   "cell_type": "markdown",
   "id": "eeebd78c",
   "metadata": {},
   "source": [
    "From the confusion matrix, we can see that there are 101 people and te model truly classified 89 people as non defaulter and wrongly classified 12 people as defaulters.\n",
    "\n",
    "Also, out of the 39 people, the model correctly classified 14 as defaulter and wrongly classified 25 people as non defaulters."
   ]
  },
  {
   "cell_type": "code",
   "execution_count": null,
   "id": "b6f122ff",
   "metadata": {},
   "outputs": [],
   "source": []
  },
  {
   "cell_type": "markdown",
   "id": "31eb30e6",
   "metadata": {},
   "source": [
    "**From the two techniques, we can see that the Random forest is a good model for our analysis as compared to the Support Vector Machine. Thus its preferred for this analysis.**\n"
   ]
  },
  {
   "cell_type": "code",
   "execution_count": null,
   "id": "67e921cc",
   "metadata": {},
   "outputs": [],
   "source": []
  },
  {
   "cell_type": "code",
   "execution_count": null,
   "id": "ba47cccd",
   "metadata": {},
   "outputs": [],
   "source": []
  },
  {
   "cell_type": "code",
   "execution_count": null,
   "id": "9689a8d3",
   "metadata": {},
   "outputs": [],
   "source": []
  },
  {
   "cell_type": "code",
   "execution_count": null,
   "id": "c5f8d94f",
   "metadata": {},
   "outputs": [],
   "source": []
  },
  {
   "cell_type": "code",
   "execution_count": null,
   "id": "79cb6c8a",
   "metadata": {},
   "outputs": [],
   "source": []
  },
  {
   "cell_type": "code",
   "execution_count": null,
   "id": "69ac2e71",
   "metadata": {},
   "outputs": [],
   "source": []
  },
  {
   "cell_type": "code",
   "execution_count": null,
   "id": "bff8680c",
   "metadata": {},
   "outputs": [],
   "source": []
  },
  {
   "cell_type": "code",
   "execution_count": null,
   "id": "3e64aa52",
   "metadata": {},
   "outputs": [],
   "source": []
  }
 ],
 "metadata": {
  "kernelspec": {
   "display_name": "Python 3",
   "language": "python",
   "name": "python3"
  },
  "language_info": {
   "codemirror_mode": {
    "name": "ipython",
    "version": 3
   },
   "file_extension": ".py",
   "mimetype": "text/x-python",
   "name": "python",
   "nbconvert_exporter": "python",
   "pygments_lexer": "ipython3",
   "version": "3.8.8"
  }
 },
 "nbformat": 4,
 "nbformat_minor": 5
}
